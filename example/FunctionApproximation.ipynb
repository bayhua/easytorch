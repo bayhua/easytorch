{
 "cells": [
  {
   "cell_type": "markdown",
   "id": "composite-transcript",
   "metadata": {},
   "source": [
    "# Function Approximation\n",
    "\n",
    "使用单层的神经网络近似三角函数。"
   ]
  },
  {
   "cell_type": "code",
   "execution_count": 1,
   "id": "emerging-lingerie",
   "metadata": {},
   "outputs": [],
   "source": [
    "import sys\n",
    "sys.path.append('..')\n",
    "\n",
    "import numpy as np\n",
    "import matplotlib.pyplot as plt\n",
    "from tqdm import tqdm\n",
    "from easytorch.layer import Linear, ReLU, Tanh, Sequential\n",
    "from easytorch.optim import SGD\n",
    "from easytorch.tensor import Tensor\n",
    "import easytorch.functional as F"
   ]
  },
  {
   "cell_type": "code",
   "execution_count": 2,
   "id": "dental-blake",
   "metadata": {},
   "outputs": [],
   "source": [
    "def generate_data(n=100, f=lambda x: 2*np.sin(x) + np.cos(x)):\n",
    "    data = []\n",
    "    for _ in range(n):\n",
    "        x = np.random.uniform(-3, 3)\n",
    "        y = f(x) + 0.03 * np.random.randn()\n",
    "        data.append([x, y])\n",
    "    return data"
   ]
  },
  {
   "cell_type": "code",
   "execution_count": 3,
   "id": "executive-criminal",
   "metadata": {},
   "outputs": [],
   "source": [
    "train_data = generate_data()\n",
    "x = Tensor(np.array([x for x, y in train_data]).reshape(-1, 1))\n",
    "y = Tensor(np.array([y for x, y in train_data]).reshape(-1, 1))"
   ]
  },
  {
   "cell_type": "code",
   "execution_count": 4,
   "id": "refined-onion",
   "metadata": {},
   "outputs": [],
   "source": [
    "model = Sequential([\n",
    "    Linear(1, 5),\n",
    "    Tanh(),\n",
    "    Linear(5, 1)\n",
    "])\n",
    "opt = SGD(model.parameters(), lr=3e-3)\n",
    "loss_fn = F.mse_loss\n",
    "loss_list = []"
   ]
  },
  {
   "cell_type": "code",
   "execution_count": 5,
   "id": "english-payroll",
   "metadata": {},
   "outputs": [
    {
     "name": "stderr",
     "output_type": "stream",
     "text": [
      "100%|██████████| 700/700 [00:16<00:00, 41.62it/s]\n"
     ]
    }
   ],
   "source": [
    "for epoch in tqdm(range(700)):\n",
    "    for data_x, data_y in zip(x, y):\n",
    "        pred = model(data_x)\n",
    "        loss = loss_fn(pred, data_y)\n",
    "        opt.zero_grad()\n",
    "        loss.backward()\n",
    "        opt.step()\n",
    "    loss_list.append(loss.data)"
   ]
  },
  {
   "cell_type": "code",
   "execution_count": 6,
   "id": "third-allocation",
   "metadata": {},
   "outputs": [
    {
     "data": {
      "image/png": "[encoded data removed]",
      "text/plain": [
       "<Figure size 432x288 with 1 Axes>"
      ]
     },
     "metadata": {
      "needs_background": "light"
     },
     "output_type": "display_data"
    }
   ],
   "source": [
    "# plt.plot(loss_list)\n",
    "# plt.show()\n",
    "\n",
    "plt.scatter(x.data, y.data, label='true data')\n",
    "plt.scatter(x.data, model(x).data, label='pred data')\n",
    "plt.legend()\n",
    "plt.show()"
   ]
  },
  {
   "cell_type": "code",
   "execution_count": null,
   "id": "abandoned-meditation",
   "metadata": {},
   "outputs": [],
   "source": []
  }
 ],
 "metadata": {
  "kernelspec": {
   "display_name": "Python 3",
   "language": "python",
   "name": "python3"
  },
  "language_info": {
   "codemirror_mode": {
    "name": "ipython",
    "version": 3
   },
   "file_extension": ".py",
   "mimetype": "text/x-python",
   "name": "python",
   "nbconvert_exporter": "python",
   "pygments_lexer": "ipython3",
   "version": "3.6.9"
  }
 },
 "nbformat": 4,
 "nbformat_minor": 5
}
