{
 "cells": [
  {
   "cell_type": "markdown",
   "id": "norman-technical",
   "metadata": {},
   "source": [
    "# Predict\n",
    "\n",
    "使用神经网络预测波士顿房价"
   ]
  },
  {
   "cell_type": "code",
   "execution_count": 1,
   "id": "offensive-investment",
   "metadata": {},
   "outputs": [],
   "source": [
    "import sys\n",
    "sys.path.append('..')\n",
    "\n",
    "import numpy as np\n",
    "import matplotlib.pyplot as plt\n",
    "from sklearn.datasets import load_boston\n",
    "from tqdm import tqdm\n",
    "from easytorch.layer import Linear, ReLU, Tanh, Sequential\n",
    "from easytorch.optim import SGD\n",
    "from easytorch.tensor import Tensor\n",
    "import easytorch.functional as F"
   ]
  },
  {
   "cell_type": "markdown",
   "id": "periodic-blanket",
   "metadata": {},
   "source": [
    "## 1. 加载数据"
   ]
  },
  {
   "cell_type": "code",
   "execution_count": 2,
   "id": "devoted-baptist",
   "metadata": {},
   "outputs": [
    {
     "data": {
      "text/plain": [
       "((506, 13), (506,))"
      ]
     },
     "execution_count": 2,
     "metadata": {},
     "output_type": "execute_result"
    }
   ],
   "source": [
    "dataset = load_boston()\n",
    "data_x = dataset.data\n",
    "data_y = dataset.target\n",
    "data_name = dataset.feature_names\n",
    "data_x = (data_x - data_x.mean(axis=0)) / (data_x.std(axis=0) + 1e-6)\n",
    "data_x.shape, data_y.shape"
   ]
  },
  {
   "cell_type": "code",
   "execution_count": 3,
   "id": "annual-nerve",
   "metadata": {},
   "outputs": [],
   "source": [
    "train_x = Tensor(data_x)\n",
    "train_y = Tensor(data_y)"
   ]
  },
  {
   "cell_type": "markdown",
   "id": "sacred-tracy",
   "metadata": {},
   "source": [
    "## 2. 搭建模型及训练"
   ]
  },
  {
   "cell_type": "code",
   "execution_count": 4,
   "id": "peaceful-syria",
   "metadata": {},
   "outputs": [],
   "source": [
    "model = Sequential([\n",
    "    Linear(13, 10),\n",
    "    ReLU(),\n",
    "    Linear(10, 1)\n",
    "])\n",
    "opt = SGD(model.parameters(), lr=3e-4)\n",
    "loss_fn = F.mse_loss\n",
    "loss_list = []"
   ]
  },
  {
   "cell_type": "code",
   "execution_count": 5,
   "id": "corresponding-persian",
   "metadata": {
    "tags": []
   },
   "outputs": [
    {
     "name": "stderr",
     "output_type": "stream",
     "text": [
      "100%|██████████| 500/500 [01:11<00:00,  7.00it/s]\n"
     ]
    }
   ],
   "source": [
    "for _ in tqdm(range(500)):\n",
    "    sum_loss = 0\n",
    "    for x, y in zip(train_x, train_y):\n",
    "        pred = model(x)\n",
    "        loss = loss_fn(pred, y.reshape(1, 1))\n",
    "        sum_loss += loss.data\n",
    "        opt.zero_grad()\n",
    "        loss.backward()\n",
    "        opt.step()\n",
    "    loss_list.append(sum_loss / len(train_x))"
   ]
  },
  {
   "cell_type": "markdown",
   "id": "faced-description",
   "metadata": {},
   "source": [
    "## 3. 结果"
   ]
  },
  {
   "cell_type": "code",
   "execution_count": 6,
   "id": "necessary-exhibition",
   "metadata": {},
   "outputs": [
    {
     "data": {
      "image/png": "[encoded data removed]",
      "text/plain": [
       "<Figure size 432x288 with 1 Axes>"
      ]
     },
     "metadata": {
      "needs_background": "light"
     },
     "output_type": "display_data"
    }
   ],
   "source": [
    "plt.plot(loss_list)\n",
    "plt.show()"
   ]
  },
  {
   "cell_type": "code",
   "execution_count": 7,
   "id": "apparent-scoop",
   "metadata": {},
   "outputs": [
    {
     "data": {
      "text/plain": [
       "tensor(6.9311097236363075, grad_fn=<MeanBackward>)"
      ]
     },
     "execution_count": 7,
     "metadata": {},
     "output_type": "execute_result"
    }
   ],
   "source": [
    "pred = model(train_x)\n",
    "loss = loss_fn(pred, train_y.reshape(-1, 1)).mean()\n",
    "loss"
   ]
  },
  {
   "cell_type": "code",
   "execution_count": null,
   "id": "changed-assistant",
   "metadata": {},
   "outputs": [],
   "source": []
  }
 ],
 "metadata": {
  "kernelspec": {
   "display_name": "Python 3",
   "language": "python",
   "name": "python3"
  },
  "language_info": {
   "codemirror_mode": {
    "name": "ipython",
    "version": 3
   },
   "file_extension": ".py",
   "mimetype": "text/x-python",
   "name": "python",
   "nbconvert_exporter": "python",
   "pygments_lexer": "ipython3",
   "version": "3.6.9"
  }
 },
 "nbformat": 4,
 "nbformat_minor": 5
}
